{
 "cells": [
  {
   "cell_type": "markdown",
   "metadata": {},
   "source": [
    "我感觉我一直在学习 torch, 却从来没有真正掌握它"
   ]
  },
  {
   "cell_type": "code",
   "execution_count": 1,
   "metadata": {},
   "outputs": [],
   "source": [
    "import torch"
   ]
  },
  {
   "cell_type": "code",
   "execution_count": 2,
   "metadata": {},
   "outputs": [
    {
     "data": {
      "text/plain": [
       "260727154559900"
      ]
     },
     "execution_count": 2,
     "metadata": {},
     "output_type": "execute_result"
    }
   ],
   "source": [
    "# 获取一个 64 bit 的随机数\n",
    "torch.seed()"
   ]
  },
  {
   "cell_type": "code",
   "execution_count": 11,
   "metadata": {},
   "outputs": [
    {
     "data": {
      "text/plain": [
       "<torch._C.Generator at 0x1c90df04b10>"
      ]
     },
     "execution_count": 11,
     "metadata": {},
     "output_type": "execute_result"
    }
   ],
   "source": [
    "# 手动设置随机种子\n",
    "torch.manual_seed(11)"
   ]
  },
  {
   "cell_type": "code",
   "execution_count": 12,
   "metadata": {},
   "outputs": [
    {
     "data": {
      "text/plain": [
       "11"
      ]
     },
     "execution_count": 12,
     "metadata": {},
     "output_type": "execute_result"
    }
   ],
   "source": [
    "# 获取当前的随机种子\n",
    "torch.initial_seed()"
   ]
  },
  {
   "cell_type": "code",
   "execution_count": 19,
   "metadata": {},
   "outputs": [
    {
     "data": {
      "text/plain": [
       "tensor([11,  0,  0,  ...,  0,  0,  0], dtype=torch.uint8)"
      ]
     },
     "execution_count": 19,
     "metadata": {},
     "output_type": "execute_result"
    }
   ],
   "source": [
    "# 获取随机数生成器的状态\n",
    "torch.get_rng_state()"
   ]
  },
  {
   "cell_type": "code",
   "execution_count": 14,
   "metadata": {},
   "outputs": [],
   "source": [
    "# 设置随机数生成器的状态\n",
    "torch.set_rng_state(torch.get_rng_state())"
   ]
  },
  {
   "cell_type": "code",
   "execution_count": 22,
   "metadata": {},
   "outputs": [
    {
     "data": {
      "text/plain": [
       "tensor([[6, 7, 8],\n",
       "        [6, 8, 7]])"
      ]
     },
     "execution_count": 22,
     "metadata": {},
     "output_type": "execute_result"
    }
   ],
   "source": [
    "a = torch.randint(1, 10, (2, 3))\n",
    "a"
   ]
  },
  {
   "cell_type": "code",
   "execution_count": 24,
   "metadata": {},
   "outputs": [
    {
     "data": {
      "text/plain": [
       "tensor(112896)"
      ]
     },
     "execution_count": 24,
     "metadata": {},
     "output_type": "execute_result"
    }
   ],
   "source": [
    "# 求所有元素的乘积\n",
    "torch.prod(a)"
   ]
  },
  {
   "cell_type": "code",
   "execution_count": 30,
   "metadata": {},
   "outputs": [
    {
     "name": "stdout",
     "output_type": "stream",
     "text": [
      "tensor(42)\n",
      "tensor([12, 15, 15])\n",
      "tensor([21, 21])\n",
      "tensor([[12, 15, 15]])\n",
      "tensor([[21],\n",
      "        [21]])\n"
     ]
    }
   ],
   "source": [
    "# 求总和, 也可以对某一维度进行求和, 那个维度会消失, 除非用 keepdim=True 保留下来\n",
    "print(torch.sum(a))\n",
    "print(torch.sum(a, dim=0))\n",
    "print(torch.sum(a, dim=1))\n",
    "print(torch.sum(a, dim=0, keepdim=True))\n",
    "print(torch.sum(a, dim=1, keepdim=True))"
   ]
  },
  {
   "cell_type": "code",
   "execution_count": 32,
   "metadata": {},
   "outputs": [
    {
     "data": {
      "text/plain": [
       "tensor(7., dtype=torch.float64)"
      ]
     },
     "execution_count": 32,
     "metadata": {},
     "output_type": "execute_result"
    }
   ],
   "source": [
    "# 求平均值, 也有和 torch.sum 类似的操作\n",
    "torch.mean(a.to(torch.float64))"
   ]
  },
  {
   "cell_type": "code",
   "execution_count": 33,
   "metadata": {},
   "outputs": [
    {
     "data": {
      "text/plain": [
       "tensor(8)"
      ]
     },
     "execution_count": 33,
     "metadata": {},
     "output_type": "execute_result"
    }
   ],
   "source": [
    "# 求最大值, 也有和 torch.sum 类似的操作\n",
    "torch.max(a)"
   ]
  },
  {
   "cell_type": "code",
   "execution_count": 34,
   "metadata": {},
   "outputs": [
    {
     "data": {
      "text/plain": [
       "tensor(6)"
      ]
     },
     "execution_count": 34,
     "metadata": {},
     "output_type": "execute_result"
    }
   ],
   "source": [
    "# 求最小值, 也有和 torch.sum 类似的操作\n",
    "torch.min(a)"
   ]
  },
  {
   "cell_type": "code",
   "execution_count": 35,
   "metadata": {},
   "outputs": [
    {
     "data": {
      "text/plain": [
       "tensor(7)"
      ]
     },
     "execution_count": 35,
     "metadata": {},
     "output_type": "execute_result"
    }
   ],
   "source": [
    "# 求中位数, 也有和 torch.sum 类似的操作\n",
    "torch.median(a)"
   ]
  },
  {
   "cell_type": "code",
   "execution_count": 36,
   "metadata": {},
   "outputs": [
    {
     "data": {
      "text/plain": [
       "torch.return_types.mode(\n",
       "values=tensor([6, 6]),\n",
       "indices=tensor([0, 0]))"
      ]
     },
     "execution_count": 36,
     "metadata": {},
     "output_type": "execute_result"
    }
   ],
   "source": [
    "# 求众数, 也有和 torch.sum 类似的操作\n",
    "torch.mode(a)"
   ]
  },
  {
   "cell_type": "code",
   "execution_count": 38,
   "metadata": {},
   "outputs": [
    {
     "data": {
      "text/plain": [
       "tensor(0.8000, dtype=torch.float64)"
      ]
     },
     "execution_count": 38,
     "metadata": {},
     "output_type": "execute_result"
    }
   ],
   "source": [
    "# 求方差, 也有和 torch.sum 类似的操作\n",
    "torch.var(a.to(torch.float64))"
   ]
  },
  {
   "cell_type": "code",
   "execution_count": 39,
   "metadata": {},
   "outputs": [
    {
     "data": {
      "text/plain": [
       "tensor(0.8944, dtype=torch.float64)"
      ]
     },
     "execution_count": 39,
     "metadata": {},
     "output_type": "execute_result"
    }
   ],
   "source": [
    "# 求方差, 也有和 torch.sum 类似的操作\n",
    "torch.std(a.to(torch.float64))"
   ]
  },
  {
   "cell_type": "code",
   "execution_count": 42,
   "metadata": {},
   "outputs": [
    {
     "name": "stdout",
     "output_type": "stream",
     "text": [
      "tensor([[0.8775, 0.1626, 0.2438],\n",
      "        [0.3382, 0.8847, 0.0763]])\n",
      "tensor([[0.9900, 0.1944, 0.4256],\n",
      "        [0.4382, 0.2988, 0.8474]])\n"
     ]
    }
   ],
   "source": [
    "a = torch.rand((2, 3))\n",
    "b = torch.rand((2, 3))\n",
    "print(a)\n",
    "print(b)"
   ]
  },
  {
   "cell_type": "code",
   "execution_count": 43,
   "metadata": {},
   "outputs": [
    {
     "name": "stdout",
     "output_type": "stream",
     "text": [
      "tensor([[1.8675, 0.3570, 0.6694],\n",
      "        [0.7764, 1.1835, 0.9236]])\n",
      "tensor([[1.8675, 0.3570, 0.6694],\n",
      "        [0.7764, 1.1835, 0.9236]])\n"
     ]
    }
   ],
   "source": [
    "# 矩阵对应元素的加法\n",
    "print(a + b)\n",
    "print(torch.add(a, b))"
   ]
  },
  {
   "cell_type": "code",
   "execution_count": 50,
   "metadata": {},
   "outputs": [
    {
     "name": "stdout",
     "output_type": "stream",
     "text": [
      "tensor([[1.8675, 0.3570, 0.6694],\n",
      "        [0.7764, 1.1835, 0.9236]])\n"
     ]
    },
    {
     "data": {
      "text/plain": [
       "tensor([[1.8675, 0.3570, 0.6694],\n",
       "        [0.7764, 1.1835, 0.9236]])"
      ]
     },
     "execution_count": 50,
     "metadata": {},
     "output_type": "execute_result"
    }
   ],
   "source": [
    "# 将结果输出到另一个 tensor 上\n",
    "c = torch.Tensor(2, 3)\n",
    "torch.add(a, b, out=c)\n",
    "print(c)\n",
    "# 直接使用 tensor 的 add 方法\n",
    "b.add(a)"
   ]
  },
  {
   "cell_type": "code",
   "execution_count": 51,
   "metadata": {},
   "outputs": [
    {
     "name": "stdout",
     "output_type": "stream",
     "text": [
      "tensor([[-0.1125, -0.0318, -0.1817],\n",
      "        [-0.1000,  0.5860, -0.7711]])\n",
      "tensor([[-0.1125, -0.0318, -0.1817],\n",
      "        [-0.1000,  0.5860, -0.7711]])\n"
     ]
    }
   ],
   "source": [
    "# 矩阵对应元素的减法\n",
    "print(a - b)\n",
    "print(torch.sub(a, b))"
   ]
  },
  {
   "cell_type": "code",
   "execution_count": 52,
   "metadata": {},
   "outputs": [
    {
     "name": "stdout",
     "output_type": "stream",
     "text": [
      "tensor([[0.8688, 0.0316, 0.1038],\n",
      "        [0.1482, 0.2643, 0.0646]])\n",
      "tensor([[0.8688, 0.0316, 0.1038],\n",
      "        [0.1482, 0.2643, 0.0646]])\n"
     ]
    }
   ],
   "source": [
    "# 矩阵对应元素相乘\n",
    "print(a * b)\n",
    "print(torch.mul(a, b))"
   ]
  },
  {
   "cell_type": "code",
   "execution_count": 53,
   "metadata": {},
   "outputs": [
    {
     "name": "stdout",
     "output_type": "stream",
     "text": [
      "tensor([[0.8863, 0.8365, 0.5729],\n",
      "        [0.7717, 2.9612, 0.0900]])\n",
      "tensor([[0.8863, 0.8365, 0.5729],\n",
      "        [0.7717, 2.9612, 0.0900]])\n"
     ]
    }
   ],
   "source": [
    "# 矩阵对应元素相除\n",
    "print(a / b)\n",
    "print(torch.div(a, b))"
   ]
  },
  {
   "cell_type": "code",
   "execution_count": 54,
   "metadata": {},
   "outputs": [
    {
     "name": "stdout",
     "output_type": "stream",
     "text": [
      "tensor([[0.7700, 0.0264, 0.0594],\n",
      "        [0.1144, 0.7828, 0.0058]])\n",
      "tensor([[0.7700, 0.0264, 0.0594],\n",
      "        [0.1144, 0.7828, 0.0058]])\n"
     ]
    }
   ],
   "source": [
    "# 矩阵对应元素的幂运算\n",
    "print(a ** 2)\n",
    "print(a.pow(2))"
   ]
  },
  {
   "cell_type": "code",
   "execution_count": 59,
   "metadata": {},
   "outputs": [
    {
     "name": "stdout",
     "output_type": "stream",
     "text": [
      "tensor([[0.9368, 0.4033, 0.4938],\n",
      "        [0.5815, 0.9406, 0.2761]])\n",
      "tensor([[1.0675, 2.4798, 2.0253],\n",
      "        [1.7196, 1.0631, 3.6214]])\n"
     ]
    }
   ],
   "source": [
    "# 矩阵对应元素的平方根\n",
    "print(a.sqrt())\n",
    "# 矩阵对应元素的平方根的倒数\n",
    "print(a.rsqrt())"
   ]
  },
  {
   "cell_type": "code",
   "execution_count": 60,
   "metadata": {},
   "outputs": [
    {
     "name": "stdout",
     "output_type": "stream",
     "text": [
      "tensor([[-0.1885, -2.6204, -2.0362],\n",
      "        [-1.5642, -0.1767, -3.7131]])\n",
      "tensor([[-0.0567, -0.7888, -0.6130],\n",
      "        [-0.4709, -0.0532, -1.1177]])\n",
      "tensor([[-0.1307, -1.8163, -1.4114],\n",
      "        [-1.0842, -0.1225, -2.5737]])\n"
     ]
    }
   ],
   "source": [
    "# 矩阵对应元素的对数\n",
    "print(torch.log2(a))\n",
    "print(torch.log10(a))\n",
    "print(torch.log(a))"
   ]
  },
  {
   "cell_type": "code",
   "execution_count": 61,
   "metadata": {},
   "outputs": [
    {
     "name": "stdout",
     "output_type": "stream",
     "text": [
      "tensor([[0., 0., 0.],\n",
      "        [0., 0., 0.]])\n",
      "tensor([[1., 1., 1.],\n",
      "        [1., 1., 1.]])\n",
      "tensor([[1., 0., 0.],\n",
      "        [0., 1., 0.]])\n",
      "tensor([[0., 0., 0.],\n",
      "        [0., 0., 0.]])\n",
      "tensor([[0.8775, 0.1626, 0.2438],\n",
      "        [0.3382, 0.8847, 0.0763]])\n"
     ]
    }
   ],
   "source": [
    "# 向下取整\n",
    "print(a.floor())\n",
    "# 向上取整\n",
    "print(a.ceil())\n",
    "# 四舍五入\n",
    "print(a.round())\n",
    "# 提取整数部分\n",
    "print(a.trunc())\n",
    "# 提取小数部分\n",
    "print(a.frac())"
   ]
  }
 ],
 "metadata": {
  "kernelspec": {
   "display_name": "Python 3.9.7 ('transformers')",
   "language": "python",
   "name": "python3"
  },
  "language_info": {
   "codemirror_mode": {
    "name": "ipython",
    "version": 3
   },
   "file_extension": ".py",
   "mimetype": "text/x-python",
   "name": "python",
   "nbconvert_exporter": "python",
   "pygments_lexer": "ipython3",
   "version": "3.9.7"
  },
  "orig_nbformat": 4,
  "vscode": {
   "interpreter": {
    "hash": "d8025d30852334e6e768ca567da121c1aa274c2c5a5a8a9ff400eded44c1a99b"
   }
  }
 },
 "nbformat": 4,
 "nbformat_minor": 2
}
