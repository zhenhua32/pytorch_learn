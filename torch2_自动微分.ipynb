{
 "nbformat": 4,
 "nbformat_minor": 2,
 "metadata": {
  "language_info": {
   "name": "python",
   "codemirror_mode": {
    "name": "ipython",
    "version": 3
   },
   "version": "3.7.4-final"
  },
  "orig_nbformat": 2,
  "file_extension": ".py",
  "mimetype": "text/x-python",
  "name": "python",
  "npconvert_exporter": "python",
  "pygments_lexer": "ipython3",
  "version": 3,
  "kernelspec": {
   "name": "python37464bitbasecondae8929445447b42c891dc62f0523a76ee",
   "display_name": "Python 3.7.4 64-bit ('base': conda)"
  }
 },
 "cells": [
  {
   "cell_type": "markdown",
   "execution_count": null,
   "metadata": {},
   "outputs": [],
   "source": [
    "torch 的自动微分和反向传播"
   ]
  },
  {
   "cell_type": "code",
   "execution_count": 1,
   "metadata": {},
   "outputs": [],
   "source": [
    "import torch"
   ]
  },
  {
   "cell_type": "code",
   "execution_count": 39,
   "metadata": {},
   "outputs": [],
   "source": [
    "x = torch.Tensor([2])\n",
    "w = torch.randn(1, requires_grad=True)\n",
    "b = torch.randn(1, requires_grad=True)\n",
    "# 实现前向传播\n",
    "y = torch.mul(w, x)  # w*x\n",
    "z = torch.add(y, b)  # y+b"
   ]
  },
  {
   "cell_type": "code",
   "execution_count": 7,
   "metadata": {},
   "outputs": [
    {
     "name": "stdout",
     "output_type": "stream",
     "text": "False True\nTrue True\nTrue True\nTrue False\nTrue False\n"
    }
   ],
   "source": [
    "print(x.requires_grad, x.is_leaf)\n",
    "print(w.requires_grad, w.is_leaf)\n",
    "print(b.requires_grad, b.is_leaf)\n",
    "print(y.requires_grad, y.is_leaf)\n",
    "print(z.requires_grad, z.is_leaf)"
   ]
  },
  {
   "cell_type": "code",
   "execution_count": 10,
   "metadata": {},
   "outputs": [
    {
     "name": "stdout",
     "output_type": "stream",
     "text": "None\nNone\nNone\n<MulBackward0 object at 0x00000264BBAABC08>\n<AddBackward0 object at 0x00000264BB955F88>\n"
    }
   ],
   "source": [
    "print(x.grad_fn)\n",
    "print(w.grad_fn)\n",
    "print(b.grad_fn)\n",
    "print(y.grad_fn)\n",
    "print(z.grad_fn)"
   ]
  },
  {
   "cell_type": "code",
   "execution_count": 38,
   "metadata": {},
   "outputs": [
    {
     "name": "stdout",
     "output_type": "stream",
     "text": "None\ntensor([48.])\ntensor([24.])\nNone\nNone\n"
    }
   ],
   "source": [
    "# z.backward()\n",
    "z.backward(retain_graph=True)\n",
    "print(x.grad)\n",
    "print(w.grad)\n",
    "print(b.grad)\n",
    "print(y.grad)\n",
    "print(z.grad)"
   ]
  },
  {
   "cell_type": "code",
   "execution_count": 40,
   "metadata": {},
   "outputs": [
    {
     "name": "stdout",
     "output_type": "stream",
     "text": "tensor([[13., 13.]], grad_fn=<CopySlices>)\n"
    }
   ],
   "source": [
    "x = torch.tensor([[2, 3]], dtype=torch.float, requires_grad=True)\n",
    "J = torch.zeros(2, 2)  # Jacobian 矩阵\n",
    "y = torch.zeros(1, 2)\n",
    "y[0, 0] = x[0, 0] ** 2 + 3 * x[0, 1]\n",
    "y[0, 1] = x[0, 1] ** 2 + 2 * x[0, 0]\n",
    "print(y)"
   ]
  },
  {
   "cell_type": "code",
   "execution_count": 41,
   "metadata": {},
   "outputs": [
    {
     "name": "stdout",
     "output_type": "stream",
     "text": "tensor([[4., 3.],\n        [2., 6.]])\n"
    }
   ],
   "source": [
    "y.backward(torch.Tensor([[1, 0]]), retain_graph=True)\n",
    "J[0] = x.grad\n",
    "x.grad = torch.zeros_like(x.grad)\n",
    "y.backward(torch.Tensor([[0, 1]]))\n",
    "J[1] = x.grad\n",
    "print(J)"
   ]
  },
  {
   "cell_type": "code",
   "execution_count": null,
   "metadata": {},
   "outputs": [],
   "source": []
  },
  {
   "cell_type": "code",
   "execution_count": null,
   "metadata": {},
   "outputs": [],
   "source": []
  },
  {
   "cell_type": "code",
   "execution_count": null,
   "metadata": {},
   "outputs": [],
   "source": []
  },
  {
   "cell_type": "code",
   "execution_count": null,
   "metadata": {},
   "outputs": [],
   "source": []
  }
 ]
}