{
 "nbformat": 4,
 "nbformat_minor": 2,
 "metadata": {
  "language_info": {
   "name": "python",
   "codemirror_mode": {
    "name": "ipython",
    "version": 3
   },
   "version": "3.7.4-final"
  },
  "orig_nbformat": 2,
  "file_extension": ".py",
  "mimetype": "text/x-python",
  "name": "python",
  "npconvert_exporter": "python",
  "pygments_lexer": "ipython3",
  "version": 3,
  "kernelspec": {
   "name": "python37464bitbasecondae8929445447b42c891dc62f0523a76ee",
   "display_name": "Python 3.7.4 64-bit ('base': conda)"
  }
 },
 "cells": [
  {
   "cell_type": "markdown",
   "execution_count": null,
   "metadata": {},
   "outputs": [],
   "source": [
    "numpy 的常用方法"
   ]
  },
  {
   "cell_type": "code",
   "execution_count": null,
   "metadata": {},
   "outputs": [],
   "source": [
    "import numpy as np\n",
    "import matplotlib.pyplot as plt"
   ]
  },
  {
   "cell_type": "code",
   "execution_count": null,
   "metadata": {},
   "outputs": [],
   "source": [
    "np.abs?"
   ]
  },
  {
   "cell_type": "code",
   "execution_count": null,
   "metadata": {},
   "outputs": [],
   "source": [
    "lst = [3.13, 2.14, 0, 1, 2]\n",
    "nd1 = np.array(lst)\n",
    "print(nd1)\n",
    "print(type(nd1))"
   ]
  },
  {
   "cell_type": "code",
   "execution_count": null,
   "metadata": {},
   "outputs": [],
   "source": [
    "lst = [\n",
    "    [3.14, 2.12, 0, 1, 2],\n",
    "    [1, 2, 3, 4, 5],\n",
    "]\n",
    "nd2 = np.array(lst)\n",
    "print(nd2)\n",
    "print(type(nd2))"
   ]
  },
  {
   "cell_type": "markdown",
   "execution_count": null,
   "metadata": {},
   "outputs": [],
   "source": [
    "常用的随机函数\n",
    "![随机函数](https://res.weread.qq.com/wrepub/epub_26858491_4)"
   ]
  },
  {
   "cell_type": "code",
   "execution_count": null,
   "metadata": {},
   "outputs": [],
   "source": [
    "nd3 = np.random.random([3, 3])\n",
    "print(nd3)\n",
    "print(nd3.shape)"
   ]
  },
  {
   "cell_type": "markdown",
   "execution_count": null,
   "metadata": {},
   "outputs": [],
   "source": [
    "常用的特殊矩阵函数\n",
    "![特殊矩阵函数](https://res.weread.qq.com/wrepub/epub_26858491_5)"
   ]
  },
  {
   "cell_type": "code",
   "execution_count": null,
   "metadata": {},
   "outputs": [],
   "source": [
    "nd4 = np.random.random([5, 5])\n",
    "np.savetxt(X=nd4, fname=\"data.txt\")  # 暂存到文件中\n",
    "nd5 = np.loadtxt('data.txt')  # 从文件中读取\n",
    "print(nd5)"
   ]
  },
  {
   "cell_type": "code",
   "execution_count": null,
   "metadata": {},
   "outputs": [],
   "source": [
    "print(np.arange(10))  # 类似于 range\n",
    "print(np.arange(1, 3, 0.3))"
   ]
  },
  {
   "cell_type": "code",
   "execution_count": null,
   "metadata": {},
   "outputs": [],
   "source": [
    "print(np.linspace(0, 10, 10)) # 生成线性等分, 因为会包含数据的起点和终点, 10 是最后生成的数量, 所以其实每一分是 (10-0)/(10-1)\n",
    "print(np.linspace(0, 10, 11))"
   ]
  },
  {
   "cell_type": "code",
   "execution_count": null,
   "metadata": {},
   "outputs": [],
   "source": [
    "x = np.arange(0, 10)\n",
    "y = np.logspace(0, 10, 10)\n",
    "print(x)\n",
    "print(y)\n",
    "plt.plot(x, y)\n",
    "plt.show()"
   ]
  },
  {
   "cell_type": "code",
   "execution_count": null,
   "metadata": {},
   "outputs": [],
   "source": [
    "np.random.seed(2019)\n",
    "nd6 = np.random.random([10])\n",
    "print(nd6)\n",
    "print(nd6[3])\n",
    "print(nd6[1:6:2])\n",
    "print(nd6[::-2])"
   ]
  },
  {
   "cell_type": "code",
   "execution_count": null,
   "metadata": {},
   "outputs": [],
   "source": [
    "nd7 = np.arange(25).reshape([5, 5])\n",
    "print(nd7)\n",
    "print(nd7[1:3, :])  # 指定的行\n",
    "print(nd7[:, 1:3])  # 指定的列\n",
    "print(nd7[1:3, 1:3])"
   ]
  },
  {
   "cell_type": "code",
   "execution_count": null,
   "metadata": {},
   "outputs": [],
   "source": [
    "print(nd7[(nd7>3)&(nd7<10)])  # 值在指定范围内的数据"
   ]
  },
  {
   "cell_type": "code",
   "execution_count": 56,
   "metadata": {},
   "outputs": [
    {
     "name": "stdout",
     "output_type": "stream",
     "text": "[[13 18 22 22]\n [17  1 14 19]\n [16 14 17 16]]\n[[ 4 11 22 17]\n [ 3  5 19 12]\n [ 1 23  8 13]]\n[[18 20 19 16]\n [13 20 20 16]\n [24 16 21 17]]\n"
    }
   ],
   "source": [
    "nd8 = np.arange(25)\n",
    "c1 = np.random.choice(nd8, size=(3, 4))  # 随机抽取指定的数据, 形状是 (3, 4)\n",
    "c2 = np.random.choice(nd8, size=(3, 4), replace=False)  # 不能重复抽取\n",
    "c3 = np.random.choice(nd8, size=(3, 4), p=nd8/np.sum(nd8))  # p 参数指定抽取的概率\n",
    "print(c1)\n",
    "print(c2)\n",
    "print(c3)"
   ]
  },
  {
   "cell_type": "markdown",
   "execution_count": null,
   "metadata": {},
   "outputs": [],
   "source": [
    "对应元素相乘（Element-Wise Product）是两个矩阵中对应元素乘积。np.multiply函数用于数组或矩阵对应元素相乘，输出与相乘数组或矩阵的大小一致"
   ]
  },
  {
   "cell_type": "code",
   "execution_count": null,
   "metadata": {},
   "outputs": [],
   "source": [
    "A = np.array([[1, 2], [-1, 4]])\n",
    "B = np.array([[2, 0], [3, 4]])\n",
    "print(A*B)  # 逐元素相乘\n",
    "print(np.multiply(A, B))"
   ]
  },
  {
   "cell_type": "code",
   "execution_count": null,
   "metadata": {},
   "outputs": [],
   "source": [
    "print(A*2.0)"
   ]
  },
  {
   "cell_type": "code",
   "execution_count": null,
   "metadata": {},
   "outputs": [],
   "source": [
    "X = np.random.rand(2,3)-0.5\n",
    "def softmoid(x):\n",
    "    return 1/(1+np.exp(-x))\n",
    "def relu(x):\n",
    "    return np.maximum(0, x)\n",
    "def softmax(xf):\n",
    "    return np.exp(x)/np.sum(np.exp(x))\n",
    "print(\"输入参数 X:\\n\", X)\n",
    "print(\"softmoid:\\n\", softmoid(X))\n",
    "print(\"relu:\\n\", relu(X))\n",
    "print(\"softmax:\\n\", softmax(X))"
   ]
  },
  {
   "cell_type": "markdown",
   "execution_count": null,
   "metadata": {},
   "outputs": [],
   "source": [
    "点积运算（Dot Product）又称为内积，在Numpy用np.dot表示\n",
    "![点积图解](https://res.weread.qq.com/wrepub/epub_26858491_8)"
   ]
  },
  {
   "cell_type": "code",
   "execution_count": 55,
   "metadata": {},
   "outputs": [
    {
     "name": "stdout",
     "output_type": "stream",
     "text": "[[21 24 27]\n [47 54 61]]\n"
    }
   ],
   "source": [
    "X1 = np.array([[1, 2], [3, 4]])\n",
    "X2 = np.array([[5, 6, 7], [8, 9 , 10]])\n",
    "X3 = np.dot(X1, X2)\n",
    "print(X3)"
   ]
  },
  {
   "cell_type": "markdown",
   "execution_count": null,
   "metadata": {},
   "outputs": [],
   "source": [
    "更改形状的常用函数\n",
    "![更改形状](https://res.weread.qq.com/wrepub/epub_26858491_9)"
   ]
  },
  {
   "cell_type": "code",
   "execution_count": 61,
   "metadata": {},
   "outputs": [
    {
     "name": "stdout",
     "output_type": "stream",
     "text": "[0 1 2 3 4 5 6 7 8 9]\n[[0 1 2 3 4]\n [5 6 7 8 9]]\n[[0 1]\n [2 3]\n [4 5]\n [6 7]\n [8 9]]\n[[0 1 2 3 4]\n [5 6 7 8 9]]\n"
    }
   ],
   "source": [
    "nd = np.arange(10)\n",
    "print(nd)\n",
    "print(nd.reshape(2, 5))\n",
    "print(nd.reshape(5, -1))  # 使用 -1 来自动计算其他维度\n",
    "print(nd.reshape(-1, 5))"
   ]
  },
  {
   "cell_type": "code",
   "execution_count": 66,
   "metadata": {},
   "outputs": [
    {
     "name": "stdout",
     "output_type": "stream",
     "text": "[0 1 2 3 4 5 6 7 8 9]\nNone\n[[0 1 2 3 4]\n [5 6 7 8 9]]\n"
    }
   ],
   "source": [
    "nd = np.arange(10)\n",
    "print(nd)\n",
    "print(nd.resize(2, 5))  # 修改向量本身, 而不是返回新值\n",
    "print(nd)"
   ]
  },
  {
   "cell_type": "code",
   "execution_count": 67,
   "metadata": {},
   "outputs": [
    {
     "name": "stdout",
     "output_type": "stream",
     "text": "[[ 0  1  2  3]\n [ 4  5  6  7]\n [ 8  9 10 11]]\n[[ 0  4  8]\n [ 1  5  9]\n [ 2  6 10]\n [ 3  7 11]]\n"
    }
   ],
   "source": [
    "nd = np.arange(12).reshape(3, 4)\n",
    "print(nd)\n",
    "print(nd.T)"
   ]
  },
  {
   "cell_type": "code",
   "execution_count": 85,
   "metadata": {},
   "outputs": [
    {
     "name": "stdout",
     "output_type": "stream",
     "text": "[[0 1 2]\n [3 4 5]]\n[0 3 1 4 2 5]\n[0 1 2 3 4 5]\n[0 1 2 3 4 5]\n[0 3 1 4 2 5]\n"
    }
   ],
   "source": [
    "nd = np.arange(6).reshape(2, -1)\n",
    "print(nd)\n",
    "print(nd.ravel('F'))  # 按列优先展平\n",
    "print(nd.ravel())  # 按行优先展平\n",
    "# https://www.geeksforgeeks.org/differences-flatten-ravel-numpy/\n",
    "print(np.ravel(nd))\n",
    "print(np.ravel(nd, 'F'))"
   ]
  },
  {
   "cell_type": "code",
   "execution_count": 86,
   "metadata": {},
   "outputs": [
    {
     "name": "stdout",
     "output_type": "stream",
     "text": "[[ 0  1  2  3]\n [ 4  5  6  7]\n [ 8  9 10 11]]\n[ 0  1  2  3  4  5  6  7  8  9 10 11]\n"
    }
   ],
   "source": [
    "nd = np.arange(12).reshape(3, 4)\n",
    "print(nd)\n",
    "print(nd.flatten())  # 将矩阵转换为向量"
   ]
  },
  {
   "cell_type": "code",
   "execution_count": 90,
   "metadata": {},
   "outputs": [
    {
     "name": "stdout",
     "output_type": "stream",
     "text": "(3, 1)\n(3,)\n"
    }
   ],
   "source": [
    "nd = np.arange(3).reshape(3, 1)\n",
    "print(nd.shape)\n",
    "print(nd.squeeze().shape)  # 用来降维, 将矩阵中含 1 的维度去掉"
   ]
  },
  {
   "cell_type": "code",
   "execution_count": 88,
   "metadata": {},
   "outputs": [
    {
     "name": "stdout",
     "output_type": "stream",
     "text": "(2, 3, 4)\n(3, 4, 2)\n"
    }
   ],
   "source": [
    "nd = np.arange(24).reshape(2, 3, 4)\n",
    "print(nd.shape)\n",
    "print(nd.transpose(1, 2, 0).shape)  # 进行轴对换"
   ]
  },
  {
   "cell_type": "markdown",
   "execution_count": null,
   "metadata": {},
   "outputs": [],
   "source": [
    "合并数组的函数\n",
    "![合并数组](https://res.weread.qq.com/wrepub/epub_26858491_10)"
   ]
  },
  {
   "cell_type": "code",
   "execution_count": 91,
   "metadata": {},
   "outputs": [
    {
     "name": "stdout",
     "output_type": "stream",
     "text": "[1 2 3 4 5 6]\n"
    }
   ],
   "source": [
    "a = np.array([1, 2, 3])\n",
    "b = np.array([4, 5, 6])\n",
    "c = np.append(a, b)\n",
    "print(c)"
   ]
  },
  {
   "cell_type": "code",
   "execution_count": 94,
   "metadata": {},
   "outputs": [
    {
     "name": "stdout",
     "output_type": "stream",
     "text": "(4, 3)\n[[0 1 2]\n [3 4 5]\n [0 1 2]\n [3 4 5]]\n(2, 6)\n[[0 1 2 0 1 2]\n [3 4 5 3 4 5]]\n"
    }
   ],
   "source": [
    "a = np.arange(6).reshape(2, 3)\n",
    "b = np.arange(6).reshape(2, 3)\n",
    "c = np.append(a, b, axis=0)  # 按行合并\n",
    "print(c.shape)\n",
    "print(c)\n",
    "d = np.append(a, b, axis=1)  # 按列合并\n",
    "print(d.shape)\n",
    "print(d)"
   ]
  },
  {
   "cell_type": "code",
   "execution_count": 110,
   "metadata": {},
   "outputs": [
    {
     "name": "stdout",
     "output_type": "stream",
     "text": "(2, 2) (1, 2) (3, 2)\n[[1 2]\n [3 4]\n [5 6]]\n(2, 2) (2, 1) (2, 3)\n[[1 2 5]\n [3 4 6]]\n"
    }
   ],
   "source": [
    "a = np.array([[1, 2], [3, 4]])\n",
    "b = np.array([[5, 6]])\n",
    "\n",
    "c = np.concatenate((a, b), axis=0)  # 按行合并\n",
    "print(a.shape, b.shape, c.shape)\n",
    "print(c)\n",
    "\n",
    "\n",
    "d = np.concatenate((a, b.T), axis=1)  # 按列合并. 合并的时候其他维度要相等, 所以使用 b.T\n",
    "print(a.shape, b.T.shape, d.shape)\n",
    "print(d)"
   ]
  },
  {
   "cell_type": "code",
   "execution_count": 119,
   "metadata": {},
   "outputs": [
    {
     "name": "stdout",
     "output_type": "stream",
     "text": "[[[1 2 1]\n  [3 4 2]]\n\n [[5 6 1]\n  [7 8 4]]]\n(2, 3) (2, 3) (2, 2, 3)\n"
    }
   ],
   "source": [
    "a = np.array([[1, 2, 1], [3, 4, 2]])\n",
    "b = np.array([[5, 6, 1], [7, 8, 4]])\n",
    "c = np.stack((a, b), axis=0)  # 沿着指定的轴叠加数组或矩阵\n",
    "print(c)\n",
    "print(a.shape, b.shape, c.shape)"
   ]
  },
  {
   "cell_type": "code",
   "execution_count": 121,
   "metadata": {},
   "outputs": [
    {
     "name": "stdout",
     "output_type": "stream",
     "text": "(10000, 2, 3)\n"
    }
   ],
   "source": [
    "data_train = np.random.randn(10000, 2, 3)\n",
    "print(data_train.shape)\n",
    "np.random.shuffle(data_train)\n",
    "batch_size = 100\n",
    "for i in range(0, len(data_train), batch_size):\n",
    "    x_batch_sum = np.sum(data_train[i:i+batch_size])"
   ]
  },
  {
   "cell_type": "markdown",
   "execution_count": null,
   "metadata": {},
   "outputs": [],
   "source": [
    "通用函数\n",
    "![通用函数](https://res.weread.qq.com/wrepub/epub_26858491_11)"
   ]
  },
  {
   "cell_type": "markdown",
   "execution_count": null,
   "metadata": {},
   "outputs": [],
   "source": [
    "广播机制的规则:\n",
    "\n",
    "1. 让所有输入数组都向其中shape最长的数组看齐，不足的部分则通过在<mark>前面</mark>加1补齐\n",
    "2. 输出数组的shape是输入数组shape的各个轴上的最大值\n",
    "3. 如果输入数组的某个轴和输出数组的对应轴的长度相同或者某个轴的长度为1时，这个数组能被用来计算，否则出错\n",
    "4. 当输入数组的某个轴的长度为1时，沿着此轴运算时都用（或复制）此轴上的第一组值\n",
    "\n",
    "![](https://res.weread.qq.com/wrepub/epub_26858491_12)"
   ]
  },
  {
   "cell_type": "code",
   "execution_count": 127,
   "metadata": {},
   "outputs": [
    {
     "name": "stdout",
     "output_type": "stream",
     "text": "[[ 0]\n [10]\n [20]\n [30]] (4, 1)\n[0 1 2] (3,)\n[[ 0  1  2]\n [10 11 12]\n [20 21 22]\n [30 31 32]] (4, 3)\n"
    }
   ],
   "source": [
    "# 广播机制示例\n",
    "A = np.arange(0, 40, 10).reshape(4, 1)\n",
    "B = np.arange(0, 3)\n",
    "C = A + B\n",
    "print(A, A.shape)\n",
    "print(B, B.shape)\n",
    "print(C, C.shape)"
   ]
  },
  {
   "cell_type": "code",
   "execution_count": null,
   "metadata": {},
   "outputs": [],
   "source": []
  },
  {
   "cell_type": "code",
   "execution_count": null,
   "metadata": {},
   "outputs": [],
   "source": []
  },
  {
   "cell_type": "code",
   "execution_count": null,
   "metadata": {},
   "outputs": [],
   "source": []
  },
  {
   "cell_type": "code",
   "execution_count": null,
   "metadata": {},
   "outputs": [],
   "source": []
  },
  {
   "cell_type": "code",
   "execution_count": null,
   "metadata": {},
   "outputs": [],
   "source": []
  },
  {
   "cell_type": "code",
   "execution_count": null,
   "metadata": {},
   "outputs": [],
   "source": []
  },
  {
   "cell_type": "code",
   "execution_count": null,
   "metadata": {},
   "outputs": [],
   "source": []
  },
  {
   "cell_type": "code",
   "execution_count": null,
   "metadata": {},
   "outputs": [],
   "source": []
  },
  {
   "cell_type": "code",
   "execution_count": null,
   "metadata": {},
   "outputs": [],
   "source": []
  },
  {
   "cell_type": "code",
   "execution_count": null,
   "metadata": {},
   "outputs": [],
   "source": []
  },
  {
   "cell_type": "code",
   "execution_count": null,
   "metadata": {},
   "outputs": [],
   "source": []
  }
 ]
}