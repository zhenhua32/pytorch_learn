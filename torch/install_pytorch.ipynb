{
 "nbformat": 4,
 "nbformat_minor": 2,
 "metadata": {
  "language_info": {
   "name": "python",
   "codemirror_mode": {
    "name": "ipython",
    "version": 3
   },
   "version": "3.7.4-final"
  },
  "orig_nbformat": 2,
  "file_extension": ".py",
  "mimetype": "text/x-python",
  "name": "python",
  "npconvert_exporter": "python",
  "pygments_lexer": "ipython3",
  "version": 3,
  "kernelspec": {
   "name": "python37464bitbasecondae8929445447b42c891dc62f0523a76ee",
   "display_name": "Python 3.7.4 64-bit ('base': conda)"
  }
 },
 "cells": [
  {
   "cell_type": "markdown",
   "execution_count": null,
   "metadata": {},
   "outputs": [],
   "source": [
    "# 安装 PyTorch\n",
    "\n",
    "https://pytorch.org/\n",
    "\n",
    "## 检查 GPU 兼容性\n",
    "\n",
    "https://developer.nvidia.com/cuda-gpus\n",
    "\n",
    "## 安装 CUDA\n",
    "\n",
    "https://developer.nvidia.com/cuda-zone\n",
    "\n",
    "去这边下载, 选择的时候选离线包, 即 `exe (local)`.\n",
    "\n",
    "## 安装 cuDNN\n",
    "\n",
    "https://developer.nvidia.com/cudnn\n",
    "\n",
    "注意选择和 CUDA 对应的版本. **需要注册并登陆**.\n",
    "\n",
    "https://docs.nvidia.com/deeplearning/sdk/cudnn-install/index.html#install-windows\n",
    "\n",
    "安装文档, 基本操作如下:\n",
    "\n",
    "> Copy <installpath>\\cuda\\bin\\cudnn64_7.6.5.32.dll to C:\\Program Files\\NVIDIA GPU Computing Toolkit\\CUDA\\v10.2\\bin.\n",
    ">\n",
    "> Copy <installpath>\\cuda\\ include\\cudnn.h to C:\\Program Files\\NVIDIA GPU Computing Toolkit\\CUDA\\v10.2\\include.\n",
    "> \n",
    "> Copy <installpath>\\cuda\\lib\\x64\\cudnn.lib to C:\\Program Files\\NVIDIA GPU Computing Toolkit\\CUDA\\v10.2\\lib\\x64.\n",
    "\n",
    "## 安装 pytorch\n",
    "\n",
    "https://pytorch.org/get-started/locally/\n",
    "\n",
    "去找对应的版本, 选定之后会给出对应的安装命令.\n",
    "\n",
    "conda install pytorch torchvision cudatoolkit=10.1 -c pytorch\n",
    "\n",
    "## 验证是否安装成功\n",
    "\n",
    "```python\n",
    "import torch\n",
    "x = torch.tensor([10.0])\n",
    "x = x.cuda()\n",
    "print(x)\n",
    "y = torch.randn(2, 3)\n",
    "y = y.cuda()\n",
    "print(y)\n",
    "z = x + y\n",
    "print(z)\n",
    "\n",
    "from torch.backends import cudnn\n",
    "print(cudnn.is_acceptable(x))\n",
    "print(cudnn.version())\n",
    "print(cudnn.is_acceptable(torch.cuda.FloatTensor(1)))\n",
    "print(cudnn.version())\n",
    "```\n",
    "\n"
   ]
  },
  {
   "cell_type": "code",
   "execution_count": 1,
   "metadata": {},
   "outputs": [
    {
     "name": "stdout",
     "output_type": "stream",
     "text": "True\ntensor([10.], device='cuda:0')\ntensor([[-0.0344,  1.8270, -1.1743],\n        [-1.7450, -0.5376,  0.9639]], device='cuda:0')\ntensor([[ 9.9656, 11.8270,  8.8257],\n        [ 8.2550,  9.4624, 10.9639]], device='cuda:0')\nTrue\n7501\nTrue\n7501\n"
    }
   ],
   "source": [
    "import torch\n",
    "print(torch.cuda.is_available())\n",
    "\n",
    "x = torch.tensor([10.0])\n",
    "x = x.cuda()\n",
    "print(x)\n",
    "y = torch.randn(2, 3)\n",
    "y = y.cuda()\n",
    "print(y)\n",
    "z = x + y\n",
    "print(z)\n",
    "\n",
    "from torch.backends import cudnn\n",
    "print(cudnn.is_acceptable(x))\n",
    "print(cudnn.version())\n",
    "print(cudnn.is_acceptable(torch.cuda.FloatTensor(1)))\n",
    "print(cudnn.version())"
   ]
  },
  {
   "cell_type": "code",
   "execution_count": null,
   "metadata": {},
   "outputs": [],
   "source": []
  }
 ]
}