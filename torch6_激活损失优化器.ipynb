{
 "nbformat": 4,
 "nbformat_minor": 2,
 "metadata": {
  "language_info": {
   "name": "python",
   "codemirror_mode": {
    "name": "ipython",
    "version": 3
   }
  },
  "orig_nbformat": 2,
  "file_extension": ".py",
  "mimetype": "text/x-python",
  "name": "python",
  "npconvert_exporter": "python",
  "pygments_lexer": "ipython3",
  "version": 3
 },
 "cells": [
  {
   "cell_type": "markdown",
   "execution_count": null,
   "metadata": {},
   "outputs": [],
   "source": [
    "常用的激活函数\n",
    "\n",
    "![常用的激活函数](https://res.weread.qq.com/wrepub/epub_26858491_81)"
   ]
  },
  {
   "cell_type": "markdown",
   "execution_count": null,
   "metadata": {},
   "outputs": [],
   "source": [
    "常用的损失函数\n",
    "- MSELoss 用于回归\n",
    "- CrossEntropyLoss 用于分类\n"
   ]
  },
  {
   "cell_type": "code",
   "execution_count": 1,
   "metadata": {},
   "outputs": [
    {
     "data": {
      "text/plain": "<torch._C.Generator at 0x1c4265d10f0>"
     },
     "execution_count": 1,
     "metadata": {},
     "output_type": "execute_result"
    }
   ],
   "source": [
    "import torch\n",
    "import torch.nn as nn\n",
    "import torch.nn.functional as F\n",
    "\n",
    "torch.manual_seed(10)"
   ]
  },
  {
   "cell_type": "code",
   "execution_count": 2,
   "metadata": {},
   "outputs": [
    {
     "name": "stdout",
     "output_type": "stream",
     "text": "tensor([[-0.6014, -1.0122]], requires_grad=True)\ntensor([[-0.3023, -1.2277]])\ntensor(0.0680, grad_fn=<MseLossBackward>)\n"
    }
   ],
   "source": [
    "loss = nn.MSELoss(reduction='mean')\n",
    "input = torch.randn(1, 2, requires_grad=True)\n",
    "print(input)\n",
    "target = torch.randn(1, 2)\n",
    "print(target)\n",
    "\n",
    "output = loss(input, target)\n",
    "print(output)\n",
    "output.backward()"
   ]
  },
  {
   "cell_type": "code",
   "execution_count": 5,
   "metadata": {},
   "outputs": [
    {
     "name": "stdout",
     "output_type": "stream",
     "text": "tensor([[ 0.1914,  0.2295, -0.7246, -0.8332,  0.8764],\n        [-0.6386,  0.3057, -0.5610, -0.5233, -0.0610],\n        [-0.4628,  1.3686,  2.0509, -0.6301, -1.1665]], requires_grad=True)\ntensor([1, 1, 3])\ntensor(1.9378, grad_fn=<NllLossBackward>)\n"
    }
   ],
   "source": [
    "loss = nn.CrossEntropyLoss()\n",
    "input = torch.randn(3, 5, requires_grad=True)\n",
    "target = torch.empty(3, dtype=torch.long).random_(5)\n",
    "print(input)\n",
    "print(target)\n",
    "\n",
    "output = loss(input, target)\n",
    "print(output)\n",
    "output.backward()"
   ]
  },
  {
   "cell_type": "markdown",
   "execution_count": null,
   "metadata": {},
   "outputs": [],
   "source": [
    "常见的优化器\n",
    "\n",
    "- 动量 SGD\n",
    "- NAG (SGD 的优化版)\n",
    "- AdaGrad\n",
    "- RMSProp (AdaGrad 的优化版)\n",
    "- Adam (带动量项的 RMSProp)"
   ]
  },
  {
   "cell_type": "markdown",
   "execution_count": null,
   "metadata": {},
   "outputs": [],
   "source": [
    "单机多 GPU 主要使用 DataParallel 函数，多主机多GPU 使用 DistributedParallel"
   ]
  },
  {
   "cell_type": "code",
   "execution_count": null,
   "metadata": {},
   "outputs": [],
   "source": []
  }
 ]
}